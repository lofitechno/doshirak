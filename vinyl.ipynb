{
 "cells": [
  {
   "cell_type": "markdown",
   "id": "04627494",
   "metadata": {},
   "source": [
    "### Парсинг сайта russian records, с целью получения информации о виниловых пластинках"
   ]
  },
  {
   "cell_type": "code",
   "execution_count": 10,
   "id": "4e716403",
   "metadata": {},
   "outputs": [],
   "source": [
    "import requests\n",
    "from bs4 import BeautifulSoup\n",
    "import re"
   ]
  },
  {
   "cell_type": "code",
   "execution_count": 11,
   "id": "5e1d8cb8",
   "metadata": {},
   "outputs": [],
   "source": [
    "#Номер релиза\n",
    "num = '13180'"
   ]
  },
  {
   "cell_type": "markdown",
   "id": "e9366cbd",
   "metadata": {},
   "source": [
    "##### Махинации с супом"
   ]
  },
  {
   "cell_type": "code",
   "execution_count": 12,
   "id": "ffcb5a19",
   "metadata": {},
   "outputs": [],
   "source": [
    "url = 'https://www.russian-records.com/search.php?search_keywords=' + num\n",
    "response = requests.get(url)\n",
    "soup = BeautifulSoup(response.text, \"html.parser\")\n",
    "\n",
    "#print(soup)"
   ]
  },
  {
   "cell_type": "code",
   "execution_count": 13,
   "id": "17914a02",
   "metadata": {},
   "outputs": [],
   "source": [
    "soup_str = ''\n",
    "for data in soup:\n",
    "    if data.find('td') is not None:\n",
    "        soup_str += ' ' + data.text + ' '\n",
    "#print(soup_str)"
   ]
  },
  {
   "cell_type": "markdown",
   "id": "3cbf0a5a",
   "metadata": {},
   "source": [
    "##### Результаты поиска"
   ]
  },
  {
   "cell_type": "code",
   "execution_count": 14,
   "id": "88b104d3",
   "metadata": {},
   "outputs": [
    {
     "name": "stdout",
     "output_type": "stream",
     "text": [
      "русскийдуэт с оркестромСоловьи, песня (Василий Павлович Соловьев-Седой, слова Алексей Иванович Фатьянов)Георгий Павлович Виноградов, Владимир Александрович (Абрамович) Бунчиков, акк. оркестр, дирижёр Михаил Николаевич Жуков1945МоскваАпрелевский заводГРК 1310\n",
      "\n",
      "18148русскийСоловьиАлексей Евгеньевич ЩербаковАлексей Евгеньевич Щербаков\n",
      "\n",
      "русскийдуэт с оркестромСоловьи, песня (Василий Павлович Соловьев-Седой, слова Алексей Иванович Фатьянов)Георгий Павлович Виноградов, Владимир Александрович (Абрамович) Бунчиков, акк. оркестр, дирижёр Михаил Николаевич Жуков1945МоскваАртель \"Грампластмасс\" (матрицы ГПТ)ЛРК 52\n",
      "\n",
      "русскийдуэт с оркестромСоловьи, песня (Василий Павлович Соловьев-Седой, слова Алексей Иванович Фатьянов)Георгий Павлович Виноградов, Владимир Александрович (Абрамович) Бунчиков, акк. оркестр, дирижёр Михаил Николаевич Жуков1945МоскваЛенинград - Свердловский РПКГРК 1310ЛРК 91\n",
      "\n",
      "русскийдуэт с оркестромСоловьи, песня (Василий Павлович Соловьев-Седой, слова Алексей Иванович Фатьянов)Георгий Павлович Виноградов, Владимир Александрович (Абрамович) Бунчиков, акк. оркестр, дирижёр Михаил Николаевич Жуков1945МоскваФабрика пластмасс Ленинград (конь Клодта)ЛРК 91\n",
      "\n"
     ]
    }
   ],
   "source": [
    "reg = num+'(..*\\n)'\n",
    "for i in (re.findall(reg, soup_str)) :\n",
    "    print(i)"
   ]
  }
 ],
 "metadata": {
  "kernelspec": {
   "display_name": "Python 3 (ipykernel)",
   "language": "python",
   "name": "python3"
  },
  "language_info": {
   "codemirror_mode": {
    "name": "ipython",
    "version": 3
   },
   "file_extension": ".py",
   "mimetype": "text/x-python",
   "name": "python",
   "nbconvert_exporter": "python",
   "pygments_lexer": "ipython3",
   "version": "3.9.7"
  }
 },
 "nbformat": 4,
 "nbformat_minor": 5
}
